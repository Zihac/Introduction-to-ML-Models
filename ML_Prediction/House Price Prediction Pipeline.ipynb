{
 "cells": [
  {
   "cell_type": "markdown",
   "id": "a00f46d4",
   "metadata": {},
   "source": [
    "# Introduction to Machine Learning Pipeline: \n",
    "# An Example Using House Prediction Dataset¶"
   ]
  },
  {
   "cell_type": "markdown",
   "id": "621569e2",
   "metadata": {},
   "source": [
    "## Goal\n",
    "\n",
    "This notebook is designed to **develop pipelines from data preparation to model prediction** that help Real Estate Sales Agents accurately predict house prices (i.e., SalePrice). The objectives are:\n",
    "\n",
    "1. To enable agents to better assess the value of a house when owners are looking to sell.\n",
    "2. To help agents understand the budget of buyers based on their descriptions of an ideal house.\n",
    "\n",
    "A detailed explanation of each step can be found in my previous notebook on [Kaggle](https://www.kaggle.com/code/somebodynamedalexis/introduction-to-ml-prediction) or [Github](https://nbviewer.org/github/Zihac/Introduction-to-ML-Models/blob/main/ML_Prediction/house-price-prediction-begining.ipynb). In this notebook, I will focus on explaining the code related to pipeline building."
   ]
  },
  {
   "cell_type": "code",
   "execution_count": 1,
   "id": "95bb7c28",
   "metadata": {},
   "outputs": [],
   "source": [
    "import numpy as np \n",
    "import pandas as pd\n",
    "\n",
    "# code if you are running on local PC\n",
    "import opendatasets as od\n",
    "# od.download(\"https://www.kaggle.com/competitions/house-prices-advanced-regression-techniques/data\")\n",
    "train = pd.read_csv('../Kaggle/house-prices-advanced-regression-techniques/train.csv')\n",
    "test = pd.read_csv('../Kaggle/house-prices-advanced-regression-techniques/test.csv')"
   ]
  },
  {
   "cell_type": "code",
   "execution_count": null,
   "id": "29ca9d5b",
   "metadata": {},
   "outputs": [],
   "source": [
    "# code if you are running it on Kaggle\n",
    "\n",
    "# import numpy as np # linear algebra\n",
    "# import pandas as pd # data processing, CSV file I/O (e.g. pd.read_csv)\n",
    "\n",
    "# import os\n",
    "# for dirname, _, filenames in os.walk('/kaggle/input'):\n",
    "#     for filename in filenames:\n",
    "#         print(os.path.join(dirname, filename))\n",
    "\n",
    "# train = pd.read_csv('../input/house-prices-advanced-regression-techniques/train.csv')\n",
    "# test = pd.read_csv('../input/house-prices-advanced-regression-techniques/test.csv')"
   ]
  },
  {
   "cell_type": "code",
   "execution_count": 2,
   "id": "3596ed7d",
   "metadata": {},
   "outputs": [
    {
     "data": {
      "text/html": [
       "<div>\n",
       "<style scoped>\n",
       "    .dataframe tbody tr th:only-of-type {\n",
       "        vertical-align: middle;\n",
       "    }\n",
       "\n",
       "    .dataframe tbody tr th {\n",
       "        vertical-align: top;\n",
       "    }\n",
       "\n",
       "    .dataframe thead th {\n",
       "        text-align: right;\n",
       "    }\n",
       "</style>\n",
       "<table border=\"1\" class=\"dataframe\">\n",
       "  <thead>\n",
       "    <tr style=\"text-align: right;\">\n",
       "      <th></th>\n",
       "      <th>Id</th>\n",
       "      <th>MSSubClass</th>\n",
       "      <th>MSZoning</th>\n",
       "      <th>LotFrontage</th>\n",
       "      <th>LotArea</th>\n",
       "      <th>Street</th>\n",
       "      <th>Alley</th>\n",
       "      <th>LotShape</th>\n",
       "      <th>LandContour</th>\n",
       "      <th>Utilities</th>\n",
       "      <th>LotConfig</th>\n",
       "      <th>LandSlope</th>\n",
       "      <th>Neighborhood</th>\n",
       "      <th>Condition1</th>\n",
       "      <th>Condition2</th>\n",
       "      <th>BldgType</th>\n",
       "      <th>HouseStyle</th>\n",
       "      <th>OverallQual</th>\n",
       "      <th>OverallCond</th>\n",
       "      <th>YearBuilt</th>\n",
       "      <th>YearRemodAdd</th>\n",
       "      <th>RoofStyle</th>\n",
       "      <th>RoofMatl</th>\n",
       "      <th>Exterior1st</th>\n",
       "      <th>Exterior2nd</th>\n",
       "      <th>MasVnrType</th>\n",
       "      <th>MasVnrArea</th>\n",
       "      <th>ExterQual</th>\n",
       "      <th>ExterCond</th>\n",
       "      <th>Foundation</th>\n",
       "      <th>BsmtQual</th>\n",
       "      <th>BsmtCond</th>\n",
       "      <th>BsmtExposure</th>\n",
       "      <th>BsmtFinType1</th>\n",
       "      <th>BsmtFinSF1</th>\n",
       "      <th>BsmtFinType2</th>\n",
       "      <th>BsmtFinSF2</th>\n",
       "      <th>BsmtUnfSF</th>\n",
       "      <th>TotalBsmtSF</th>\n",
       "      <th>Heating</th>\n",
       "      <th>HeatingQC</th>\n",
       "      <th>CentralAir</th>\n",
       "      <th>Electrical</th>\n",
       "      <th>1stFlrSF</th>\n",
       "      <th>2ndFlrSF</th>\n",
       "      <th>LowQualFinSF</th>\n",
       "      <th>GrLivArea</th>\n",
       "      <th>BsmtFullBath</th>\n",
       "      <th>BsmtHalfBath</th>\n",
       "      <th>FullBath</th>\n",
       "      <th>HalfBath</th>\n",
       "      <th>BedroomAbvGr</th>\n",
       "      <th>KitchenAbvGr</th>\n",
       "      <th>KitchenQual</th>\n",
       "      <th>TotRmsAbvGrd</th>\n",
       "      <th>Functional</th>\n",
       "      <th>Fireplaces</th>\n",
       "      <th>FireplaceQu</th>\n",
       "      <th>GarageType</th>\n",
       "      <th>GarageYrBlt</th>\n",
       "      <th>GarageFinish</th>\n",
       "      <th>GarageCars</th>\n",
       "      <th>GarageArea</th>\n",
       "      <th>GarageQual</th>\n",
       "      <th>GarageCond</th>\n",
       "      <th>PavedDrive</th>\n",
       "      <th>WoodDeckSF</th>\n",
       "      <th>OpenPorchSF</th>\n",
       "      <th>EnclosedPorch</th>\n",
       "      <th>3SsnPorch</th>\n",
       "      <th>ScreenPorch</th>\n",
       "      <th>PoolArea</th>\n",
       "      <th>PoolQC</th>\n",
       "      <th>Fence</th>\n",
       "      <th>MiscFeature</th>\n",
       "      <th>MiscVal</th>\n",
       "      <th>MoSold</th>\n",
       "      <th>YrSold</th>\n",
       "      <th>SaleType</th>\n",
       "      <th>SaleCondition</th>\n",
       "      <th>SalePrice</th>\n",
       "    </tr>\n",
       "  </thead>\n",
       "  <tbody>\n",
       "    <tr>\n",
       "      <th>0</th>\n",
       "      <td>1</td>\n",
       "      <td>60</td>\n",
       "      <td>RL</td>\n",
       "      <td>65.0</td>\n",
       "      <td>8450</td>\n",
       "      <td>Pave</td>\n",
       "      <td>NaN</td>\n",
       "      <td>Reg</td>\n",
       "      <td>Lvl</td>\n",
       "      <td>AllPub</td>\n",
       "      <td>Inside</td>\n",
       "      <td>Gtl</td>\n",
       "      <td>CollgCr</td>\n",
       "      <td>Norm</td>\n",
       "      <td>Norm</td>\n",
       "      <td>1Fam</td>\n",
       "      <td>2Story</td>\n",
       "      <td>7</td>\n",
       "      <td>5</td>\n",
       "      <td>2003</td>\n",
       "      <td>2003</td>\n",
       "      <td>Gable</td>\n",
       "      <td>CompShg</td>\n",
       "      <td>VinylSd</td>\n",
       "      <td>VinylSd</td>\n",
       "      <td>BrkFace</td>\n",
       "      <td>196.0</td>\n",
       "      <td>Gd</td>\n",
       "      <td>TA</td>\n",
       "      <td>PConc</td>\n",
       "      <td>Gd</td>\n",
       "      <td>TA</td>\n",
       "      <td>No</td>\n",
       "      <td>GLQ</td>\n",
       "      <td>706</td>\n",
       "      <td>Unf</td>\n",
       "      <td>0</td>\n",
       "      <td>150</td>\n",
       "      <td>856</td>\n",
       "      <td>GasA</td>\n",
       "      <td>Ex</td>\n",
       "      <td>Y</td>\n",
       "      <td>SBrkr</td>\n",
       "      <td>856</td>\n",
       "      <td>854</td>\n",
       "      <td>0</td>\n",
       "      <td>1710</td>\n",
       "      <td>1</td>\n",
       "      <td>0</td>\n",
       "      <td>2</td>\n",
       "      <td>1</td>\n",
       "      <td>3</td>\n",
       "      <td>1</td>\n",
       "      <td>Gd</td>\n",
       "      <td>8</td>\n",
       "      <td>Typ</td>\n",
       "      <td>0</td>\n",
       "      <td>NaN</td>\n",
       "      <td>Attchd</td>\n",
       "      <td>2003.0</td>\n",
       "      <td>RFn</td>\n",
       "      <td>2</td>\n",
       "      <td>548</td>\n",
       "      <td>TA</td>\n",
       "      <td>TA</td>\n",
       "      <td>Y</td>\n",
       "      <td>0</td>\n",
       "      <td>61</td>\n",
       "      <td>0</td>\n",
       "      <td>0</td>\n",
       "      <td>0</td>\n",
       "      <td>0</td>\n",
       "      <td>NaN</td>\n",
       "      <td>NaN</td>\n",
       "      <td>NaN</td>\n",
       "      <td>0</td>\n",
       "      <td>2</td>\n",
       "      <td>2008</td>\n",
       "      <td>WD</td>\n",
       "      <td>Normal</td>\n",
       "      <td>208500</td>\n",
       "    </tr>\n",
       "  </tbody>\n",
       "</table>\n",
       "</div>"
      ],
      "text/plain": [
       "   Id  MSSubClass MSZoning  LotFrontage  LotArea Street Alley LotShape  \\\n",
       "0   1          60       RL         65.0     8450   Pave   NaN      Reg   \n",
       "\n",
       "  LandContour Utilities LotConfig LandSlope Neighborhood Condition1  \\\n",
       "0         Lvl    AllPub    Inside       Gtl      CollgCr       Norm   \n",
       "\n",
       "  Condition2 BldgType HouseStyle  OverallQual  OverallCond  YearBuilt  \\\n",
       "0       Norm     1Fam     2Story            7            5       2003   \n",
       "\n",
       "   YearRemodAdd RoofStyle RoofMatl Exterior1st Exterior2nd MasVnrType  \\\n",
       "0          2003     Gable  CompShg     VinylSd     VinylSd    BrkFace   \n",
       "\n",
       "   MasVnrArea ExterQual ExterCond Foundation BsmtQual BsmtCond BsmtExposure  \\\n",
       "0       196.0        Gd        TA      PConc       Gd       TA           No   \n",
       "\n",
       "  BsmtFinType1  BsmtFinSF1 BsmtFinType2  BsmtFinSF2  BsmtUnfSF  TotalBsmtSF  \\\n",
       "0          GLQ         706          Unf           0        150          856   \n",
       "\n",
       "  Heating HeatingQC CentralAir Electrical  1stFlrSF  2ndFlrSF  LowQualFinSF  \\\n",
       "0    GasA        Ex          Y      SBrkr       856       854             0   \n",
       "\n",
       "   GrLivArea  BsmtFullBath  BsmtHalfBath  FullBath  HalfBath  BedroomAbvGr  \\\n",
       "0       1710             1             0         2         1             3   \n",
       "\n",
       "   KitchenAbvGr KitchenQual  TotRmsAbvGrd Functional  Fireplaces FireplaceQu  \\\n",
       "0             1          Gd             8        Typ           0         NaN   \n",
       "\n",
       "  GarageType  GarageYrBlt GarageFinish  GarageCars  GarageArea GarageQual  \\\n",
       "0     Attchd       2003.0          RFn           2         548         TA   \n",
       "\n",
       "  GarageCond PavedDrive  WoodDeckSF  OpenPorchSF  EnclosedPorch  3SsnPorch  \\\n",
       "0         TA          Y           0           61              0          0   \n",
       "\n",
       "   ScreenPorch  PoolArea PoolQC Fence MiscFeature  MiscVal  MoSold  YrSold  \\\n",
       "0            0         0    NaN   NaN         NaN        0       2    2008   \n",
       "\n",
       "  SaleType SaleCondition  SalePrice  \n",
       "0       WD        Normal     208500  "
      ]
     },
     "execution_count": 2,
     "metadata": {},
     "output_type": "execute_result"
    }
   ],
   "source": [
    "pd.set_option('display.max_columns', 500)\n",
    "\n",
    "train.head(1)"
   ]
  },
  {
   "cell_type": "markdown",
   "id": "86053432",
   "metadata": {},
   "source": [
    "# Pipeline for Data Preprocessing"
   ]
  },
  {
   "cell_type": "code",
   "execution_count": 3,
   "id": "def8739e",
   "metadata": {},
   "outputs": [],
   "source": [
    "# Split the data into training and testing\n",
    "y_train = train['SalePrice']\n",
    "X_train = train.drop(['SalePrice'], axis=1)\n",
    "\n",
    "# get feature names\n",
    "time = train[['MoSold','YrSold']].columns.to_list()\n",
    "num_attribs = train.select_dtypes(include=np.number).drop(['MoSold','YrSold','SalePrice'], axis=1).columns.to_list()\n",
    "cat_attribs = train.select_dtypes(include=\"object\").columns.to_list()"
   ]
  },
  {
   "cell_type": "code",
   "execution_count": 4,
   "id": "5901a02a",
   "metadata": {},
   "outputs": [
    {
     "data": {
      "text/plain": [
       "['MoSold', 'YrSold']"
      ]
     },
     "execution_count": 4,
     "metadata": {},
     "output_type": "execute_result"
    }
   ],
   "source": [
    "time"
   ]
  },
  {
   "cell_type": "markdown",
   "id": "178b3ca4",
   "metadata": {},
   "source": [
    "For **numeric features** (num_pipeline): we fill the missing values with the median (imputer), then standardize the numeric features (std_scaler).\n",
    "\n",
    "For **categorical features** (cate_pipeline): we fill the missing values with the mode (imputer), then use a one-hot encoder to transform all categorical features into binary columns (cat).\n"
   ]
  },
  {
   "cell_type": "code",
   "execution_count": 5,
   "id": "9ec192b4",
   "metadata": {},
   "outputs": [],
   "source": [
    "from sklearn.pipeline import Pipeline\n",
    "from sklearn.impute import SimpleImputer\n",
    "from sklearn.compose import ColumnTransformer\n",
    "from sklearn.preprocessing import StandardScaler, OneHotEncoder\n",
    "\n",
    "num_pipeline = Pipeline([\n",
    "    (\"imputer\", SimpleImputer(strategy=\"median\")),\n",
    "    (\"std_scaler\", StandardScaler()),\n",
    "])\n",
    "\n",
    "\n",
    "cate_pipeline = Pipeline([\n",
    "    (\"imputer\", SimpleImputer(strategy=\"most_frequent\")), #mode\n",
    "    (\"cat\", OneHotEncoder()),\n",
    "])"
   ]
  },
  {
   "cell_type": "markdown",
   "id": "3dacd38b",
   "metadata": {},
   "source": [
    "# Pipeline for Feature Engineering "
   ]
  },
  {
   "cell_type": "markdown",
   "id": "f9c0cf84",
   "metadata": {},
   "source": [
    "## Time features\n",
    "\n",
    "- **During fit (only training dataset)**:\n",
    "    - If time_series=True, the method:\n",
    "        1. Gets the median of house prices by year-month.\n",
    "        2. Calculates the year-month seasonal and financial crisis indicators.\n",
    "        3. Stores the resulting dataframe in self.temp.\n",
    "\n",
    "- **During transform (training + testing)**:\n",
    "    - If self.time_series and self.temp is not None:\n",
    "        1. Retrieves the dataframe stored in self.temp.\n",
    "        2. Merges the result back to the input data X.\n",
    "        3. Returns the financial crisis indicator and seasonal components.\n",
    "    - Else, returns the original input data X without calculating the time features."
   ]
  },
  {
   "cell_type": "code",
   "execution_count": 6,
   "id": "2440e8f2",
   "metadata": {},
   "outputs": [],
   "source": [
    "from sklearn.base import BaseEstimator,TransformerMixin\n",
    "from statsmodels.tsa.seasonal import seasonal_decompose\n",
    "\n",
    "class TimeSeries(BaseEstimator, TransformerMixin):\n",
    "    def __init__(self, time_series=True):\n",
    "        # time_series=Ture-->run if; by default is True\n",
    "        # time_series=False-->run else\n",
    "        self.time_series = time_series\n",
    "        self.temp = None\n",
    "\n",
    "    def fit(self, X, y=None):\n",
    "        if self.time_series and y is not None:\n",
    "            X = X.copy()\n",
    "            X['SalePrice'] = y\n",
    "            X['YearMonthSold'] = pd.to_datetime(X['YrSold'].astype(str) + '-' + X['MoSold'].astype(str))\n",
    "\n",
    "            # Median SalePrice for each year-month\n",
    "            temp = X.groupby('YearMonthSold')['SalePrice'].median().reset_index()\n",
    "            temp.set_index('YearMonthSold', inplace=True)\n",
    "\n",
    "            # Decompose the time series to extract seasonal and trend components\n",
    "            decompose = seasonal_decompose(temp['SalePrice'], model='multiplicative', period=12)\n",
    "            temp['seasonal'] = decompose.seasonal\n",
    "            temp['trend'] = decompose.trend\n",
    "\n",
    "            # Create indicator for financial crisis\n",
    "            temp.reset_index(inplace=True)\n",
    "            temp['YearMonthSold'] = temp['YearMonthSold'].dt.strftime('%Y-%m')\n",
    "            temp['is_crisis'] = 0\n",
    "            temp.loc[temp['YearMonthSold'] >= '2008-01', 'is_crisis'] = 1\n",
    "            temp['YearMonthSold'] = pd.to_datetime(temp['YearMonthSold'], format='%Y-%m')\n",
    "            self.temp = temp\n",
    "\n",
    "        return self\n",
    "    \n",
    "    def transform(self, X):\n",
    "        if self.time_series and self.temp is not None:\n",
    "            X = X.copy()\n",
    "            X['YearMonthSold'] = pd.to_datetime(X['YrSold'].astype(str) + '-' + X['MoSold'].astype(str))\n",
    "            X = X.merge(self.temp[['YearMonthSold', 'is_crisis', 'seasonal']], on='YearMonthSold', how='left')\n",
    "            return X[['is_crisis', 'seasonal']]\n",
    "        else:\n",
    "            return X"
   ]
  },
  {
   "cell_type": "markdown",
   "id": "d76dcba9",
   "metadata": {},
   "source": [
    "*The ColumnTransformer ensures that:*\n",
    "\n",
    "If the testing features' column order is different from the training input feature columns, the output sequence will follow the order specified in the ColumnTransformer, ensuring consistent preprocessing."
   ]
  },
  {
   "cell_type": "code",
   "execution_count": 7,
   "id": "792cde1d",
   "metadata": {},
   "outputs": [],
   "source": [
    "data_preprocess = ColumnTransformer([\n",
    "   (\"time\", TimeSeries(),time),\n",
    "   (\"num\", num_pipeline, num_attribs), # num_pipeline returns a dense matrix\n",
    "   (\"cat\", cate_pipeline, cat_attribs), # OneHotEncoder returns a sparse matrix\n",
    "])"
   ]
  },
  {
   "cell_type": "markdown",
   "id": "31aa4796",
   "metadata": {},
   "source": [
    "# Pipeline for Feature Selection"
   ]
  },
  {
   "cell_type": "markdown",
   "id": "9b1ed363",
   "metadata": {},
   "source": [
    "In this session, I jointly select numerical and categorical features using **mutual_info_regression**. My previous notebook shows that the features selected by mutual_info_regression are similar to those selected based on correlation. \n",
    "\n",
    "## SelectKBest \n",
    "- Select the top 10 features based on mutual_info_regression.\n",
    "    - To simplify the selection process, we directly use SelectKBest(score_func=mutual_info_regression, k=10). However, to return the top 10 features with their column names, we need to customize it.\n",
    " \n",
    "    \n",
    "- **During fit (only training dataset)**:\n",
    "    1. Fit the SelectKBest based on the criterion mutual_info_regression, using the training data with features (X) and target (y).\n",
    "    2. Get the indices of the selected features (mask).\n",
    "    3. Store the column names (self.selected_features_) and SelectKBest object (self.selector) after training.\n",
    "\n",
    "- **During transform (training + testing)**:\n",
    "    1. Apply the same feature selection on the data (X).\n",
    "    2. Return a DataFrame with the selected features and their corresponding column names."
   ]
  },
  {
   "cell_type": "code",
   "execution_count": 8,
   "id": "fddb8302",
   "metadata": {},
   "outputs": [],
   "source": [
    "from sklearn.feature_selection import SelectKBest, mutual_info_regression"
   ]
  },
  {
   "cell_type": "code",
   "execution_count": 9,
   "id": "d8e46365",
   "metadata": {},
   "outputs": [],
   "source": [
    "class SelectK(BaseEstimator, TransformerMixin):\n",
    "    def __init__(self, score_func, k):\n",
    "        self.k = k\n",
    "        self.score_func = score_func\n",
    "        self.selector = SelectKBest(score_func=self.score_func, k=self.k)\n",
    "        self.selected_features_ = None\n",
    "\n",
    "    def fit(self, X, y=None):\n",
    "        self.selector.fit(X, y)\n",
    "        mask = self.selector.get_support()  # Get boolean mask of selected features\n",
    "        self.selected_features_ = X.columns[mask]\n",
    "        return self\n",
    "\n",
    "    def transform(self, X):\n",
    "        X_selected = self.selector.transform(X)\n",
    "        return pd.DataFrame(X_selected, columns=self.selected_features_)"
   ]
  },
  {
   "cell_type": "markdown",
   "id": "c9dffca2",
   "metadata": {},
   "source": [
    "## Remove Highly Correlated Features\n",
    "\n",
    "- Remove features that show high Pearson correlations.\n",
    "\n",
    "- **During fit (only training dataset)**:\n",
    "    1. Get the correlation matrix with absolute values (corr_matrix).\n",
    "    2. Consider only the upper triangle of the matrix (upper).\n",
    "    3. If the value is greater than the threshold, save the corresponding column in the dropping list (self.to_drop).\n",
    "    \n",
    "- **During transform (training + testing)**:\n",
    "    1. If the drop list is non-null, drop the selected columns from the original data X.\n"
   ]
  },
  {
   "cell_type": "code",
   "execution_count": 23,
   "id": "7fbbac91",
   "metadata": {},
   "outputs": [],
   "source": [
    "#  train.corr().abs()\n",
    "# np.ones(train.shape)"
   ]
  },
  {
   "cell_type": "code",
   "execution_count": 10,
   "id": "e8c57754",
   "metadata": {},
   "outputs": [],
   "source": [
    "# Custom transformer to drop highly correlated features\n",
    "class DropHighlyCorrelatedFeatures(BaseEstimator, TransformerMixin):\n",
    "    def __init__(self, threshold):\n",
    "        self.threshold = threshold\n",
    "        self.to_drop = None\n",
    "\n",
    "    def fit(self, X, y=None):\n",
    "        # Create a DataFrame to calculate correlations\n",
    "        df = pd.DataFrame(X)\n",
    "        corr_matrix = df.corr().abs()\n",
    "        # Select the upper triangle of the correlation matrix\n",
    "            # np.triu:  sets all elements below the k-th diagonal to zero\n",
    "                # k=1:  exclude the diagonal itself and only consider elements above it\n",
    "            # np.ones: creates a matrix of ones to identify the positions in the correlation matrix\n",
    "        upper = corr_matrix.where(np.triu(np.ones(corr_matrix.shape), k=1).astype(bool))\n",
    "        \n",
    "        # Find features with correlation greater than the threshold\n",
    "        self.to_drop = [column for column in upper.columns if any(upper[column] > self.threshold)]\n",
    "        return self\n",
    "\n",
    "    def transform(self, X):\n",
    "        if self.to_drop is not None:\n",
    "            X = pd.DataFrame(X).drop(columns=self.to_drop)\n",
    "        return X"
   ]
  },
  {
   "cell_type": "markdown",
   "id": "80d035d9",
   "metadata": {},
   "source": [
    "Create pipeline for feature selections. "
   ]
  },
  {
   "cell_type": "code",
   "execution_count": 11,
   "id": "658dbb37",
   "metadata": {},
   "outputs": [],
   "source": [
    "feature_selection = Pipeline([\n",
    "    ('selectK', SelectK(score_func=mutual_info_regression, k=10)),\n",
    "    ('removeHigh', DropHighlyCorrelatedFeatures(threshold=0.8))\n",
    "])"
   ]
  },
  {
   "cell_type": "markdown",
   "id": "bf2aa170",
   "metadata": {},
   "source": [
    "# Pipeline for Feature Names\n",
    "\n",
    "After applying the pipelines in *data_preprocess*, the return will be in the form of a sparse matrix. To customize a pipeline to return the result in DataFrame format with column names, I built the DataFrameConverter class:\n",
    "\n",
    "\n",
    "- **During fit (only training dataset)**:\n",
    "    - Do nothing, return the object stored in self.\n",
    "- **During transform (training + testing)**:\n",
    "    - if self.time_series = True:\n",
    "        - Get the column names of time, numeric, and categorical features.\n",
    "        - Return the data X in DataFrame format with column names.\n",
    "    - if  self.time_series = False:\n",
    "        - Get the column names of numeric and categorical features.\n",
    "        - Return the data X in DataFrame format with column names."
   ]
  },
  {
   "cell_type": "code",
   "execution_count": 12,
   "id": "7cdd1ef8",
   "metadata": {},
   "outputs": [
    {
     "data": {
      "text/plain": [
       "<1460x289 sparse matrix of type '<class 'numpy.float64'>'\n",
       "\twith 116157 stored elements in Compressed Sparse Row format>"
      ]
     },
     "execution_count": 12,
     "metadata": {},
     "output_type": "execute_result"
    }
   ],
   "source": [
    "check = data_preprocess.fit_transform(X_train, y_train)\n",
    "check"
   ]
  },
  {
   "cell_type": "code",
   "execution_count": 13,
   "id": "ef9e28a7",
   "metadata": {},
   "outputs": [
    {
     "data": {
      "text/plain": [
       "['is_crisis', 'seasonal']"
      ]
     },
     "execution_count": 13,
     "metadata": {},
     "output_type": "execute_result"
    }
   ],
   "source": [
    "time_attribs = ['is_crisis', 'seasonal']\n",
    "time_attribs"
   ]
  },
  {
   "cell_type": "code",
   "execution_count": 14,
   "id": "d0c05c0c",
   "metadata": {},
   "outputs": [],
   "source": [
    "class DataFrameConverter(BaseEstimator, TransformerMixin):\n",
    "    def __init__(self, time_attribs, num_attribs, cat_attribs, time_series=True):\n",
    "        self.time_series=time_series\n",
    "        self.num_attribs = num_attribs\n",
    "        self.cat_attribs = cat_attribs\n",
    "        self.time_attribs = time_attribs\n",
    "    \n",
    "    def fit(self, X, y=None):\n",
    "        return self\n",
    "    \n",
    "    def transform(self, X):\n",
    "        if self.time_series:\n",
    "            # Get the feature names from the transformers\n",
    "            time_feature_names = self.time_attribs\n",
    "            num_feature_names = self.num_attribs\n",
    "            cat_feature_names = data_preprocess.named_transformers_['cat']['cat'].get_feature_names_out(self.cat_attribs).tolist()\n",
    "\n",
    "            # Combine all feature names\n",
    "            all_feature_names = time_feature_names + num_feature_names + cat_feature_names\n",
    "            # Convert the sparse matrix to a dense array (if necessary)\n",
    "            X_dense = X.toarray() if hasattr(X, 'toarray') else X\n",
    "            # Create DataFrame with the transformed data and feature names\n",
    "            return pd.DataFrame(X_dense, columns=all_feature_names)\n",
    "        else:\n",
    "            all_feature_names = num_feature_names + cat_feature_names\n",
    "            X_dense = X.toarray() if hasattr(X, 'toarray') else X\n",
    "            return pd.DataFrame(X_dense, columns=all_feature_names)\n"
   ]
  },
  {
   "cell_type": "markdown",
   "id": "b6436182",
   "metadata": {},
   "source": [
    "# Combine Pipelines before Model Selection"
   ]
  },
  {
   "cell_type": "code",
   "execution_count": 15,
   "id": "89cc3414",
   "metadata": {},
   "outputs": [],
   "source": [
    "full_pipeline = Pipeline([\n",
    "    ('data_preprocess', data_preprocess),\n",
    "    ('dataframe_converter', DataFrameConverter(time_attribs, num_attribs, cat_attribs)),\n",
    "    ('feature_selection', feature_selection),\n",
    "])"
   ]
  },
  {
   "cell_type": "code",
   "execution_count": 16,
   "id": "3b442444",
   "metadata": {},
   "outputs": [
    {
     "data": {
      "text/html": [
       "<div>\n",
       "<style scoped>\n",
       "    .dataframe tbody tr th:only-of-type {\n",
       "        vertical-align: middle;\n",
       "    }\n",
       "\n",
       "    .dataframe tbody tr th {\n",
       "        vertical-align: top;\n",
       "    }\n",
       "\n",
       "    .dataframe thead th {\n",
       "        text-align: right;\n",
       "    }\n",
       "</style>\n",
       "<table border=\"1\" class=\"dataframe\">\n",
       "  <thead>\n",
       "    <tr style=\"text-align: right;\">\n",
       "      <th></th>\n",
       "      <th>MSSubClass</th>\n",
       "      <th>OverallQual</th>\n",
       "      <th>YearBuilt</th>\n",
       "      <th>TotalBsmtSF</th>\n",
       "      <th>GrLivArea</th>\n",
       "      <th>FullBath</th>\n",
       "      <th>GarageYrBlt</th>\n",
       "      <th>GarageCars</th>\n",
       "    </tr>\n",
       "  </thead>\n",
       "  <tbody>\n",
       "    <tr>\n",
       "      <th>0</th>\n",
       "      <td>0.073375</td>\n",
       "      <td>0.651479</td>\n",
       "      <td>1.050994</td>\n",
       "      <td>-0.459303</td>\n",
       "      <td>0.370333</td>\n",
       "      <td>0.789741</td>\n",
       "      <td>1.017598</td>\n",
       "      <td>0.311725</td>\n",
       "    </tr>\n",
       "    <tr>\n",
       "      <th>1</th>\n",
       "      <td>-0.872563</td>\n",
       "      <td>-0.071836</td>\n",
       "      <td>0.156734</td>\n",
       "      <td>0.466465</td>\n",
       "      <td>-0.482512</td>\n",
       "      <td>0.789741</td>\n",
       "      <td>-0.107927</td>\n",
       "      <td>0.311725</td>\n",
       "    </tr>\n",
       "    <tr>\n",
       "      <th>2</th>\n",
       "      <td>0.073375</td>\n",
       "      <td>0.651479</td>\n",
       "      <td>0.984752</td>\n",
       "      <td>-0.313369</td>\n",
       "      <td>0.515013</td>\n",
       "      <td>0.789741</td>\n",
       "      <td>0.934226</td>\n",
       "      <td>0.311725</td>\n",
       "    </tr>\n",
       "    <tr>\n",
       "      <th>3</th>\n",
       "      <td>0.309859</td>\n",
       "      <td>0.651479</td>\n",
       "      <td>-1.863632</td>\n",
       "      <td>-0.687324</td>\n",
       "      <td>0.383659</td>\n",
       "      <td>-1.026041</td>\n",
       "      <td>0.809167</td>\n",
       "      <td>1.650307</td>\n",
       "    </tr>\n",
       "    <tr>\n",
       "      <th>4</th>\n",
       "      <td>0.073375</td>\n",
       "      <td>1.374795</td>\n",
       "      <td>0.951632</td>\n",
       "      <td>0.199680</td>\n",
       "      <td>1.299326</td>\n",
       "      <td>0.789741</td>\n",
       "      <td>0.892540</td>\n",
       "      <td>1.650307</td>\n",
       "    </tr>\n",
       "    <tr>\n",
       "      <th>...</th>\n",
       "      <td>...</td>\n",
       "      <td>...</td>\n",
       "      <td>...</td>\n",
       "      <td>...</td>\n",
       "      <td>...</td>\n",
       "      <td>...</td>\n",
       "      <td>...</td>\n",
       "      <td>...</td>\n",
       "    </tr>\n",
       "    <tr>\n",
       "      <th>1455</th>\n",
       "      <td>0.073375</td>\n",
       "      <td>-0.071836</td>\n",
       "      <td>0.918511</td>\n",
       "      <td>-0.238122</td>\n",
       "      <td>0.250402</td>\n",
       "      <td>0.789741</td>\n",
       "      <td>0.850854</td>\n",
       "      <td>0.311725</td>\n",
       "    </tr>\n",
       "    <tr>\n",
       "      <th>1456</th>\n",
       "      <td>-0.872563</td>\n",
       "      <td>-0.071836</td>\n",
       "      <td>0.222975</td>\n",
       "      <td>1.104925</td>\n",
       "      <td>1.061367</td>\n",
       "      <td>0.789741</td>\n",
       "      <td>-0.024555</td>\n",
       "      <td>0.311725</td>\n",
       "    </tr>\n",
       "    <tr>\n",
       "      <th>1457</th>\n",
       "      <td>0.309859</td>\n",
       "      <td>0.651479</td>\n",
       "      <td>-1.002492</td>\n",
       "      <td>0.215641</td>\n",
       "      <td>1.569647</td>\n",
       "      <td>0.789741</td>\n",
       "      <td>-1.566941</td>\n",
       "      <td>-1.026858</td>\n",
       "    </tr>\n",
       "    <tr>\n",
       "      <th>1458</th>\n",
       "      <td>-0.872563</td>\n",
       "      <td>-0.795151</td>\n",
       "      <td>-0.704406</td>\n",
       "      <td>0.046905</td>\n",
       "      <td>-0.832788</td>\n",
       "      <td>-1.026041</td>\n",
       "      <td>-1.191766</td>\n",
       "      <td>-1.026858</td>\n",
       "    </tr>\n",
       "    <tr>\n",
       "      <th>1459</th>\n",
       "      <td>-0.872563</td>\n",
       "      <td>-0.795151</td>\n",
       "      <td>-0.207594</td>\n",
       "      <td>0.452784</td>\n",
       "      <td>-0.493934</td>\n",
       "      <td>-1.026041</td>\n",
       "      <td>-0.566474</td>\n",
       "      <td>-1.026858</td>\n",
       "    </tr>\n",
       "  </tbody>\n",
       "</table>\n",
       "<p>1460 rows × 8 columns</p>\n",
       "</div>"
      ],
      "text/plain": [
       "      MSSubClass  OverallQual  YearBuilt  TotalBsmtSF  GrLivArea  FullBath  \\\n",
       "0       0.073375     0.651479   1.050994    -0.459303   0.370333  0.789741   \n",
       "1      -0.872563    -0.071836   0.156734     0.466465  -0.482512  0.789741   \n",
       "2       0.073375     0.651479   0.984752    -0.313369   0.515013  0.789741   \n",
       "3       0.309859     0.651479  -1.863632    -0.687324   0.383659 -1.026041   \n",
       "4       0.073375     1.374795   0.951632     0.199680   1.299326  0.789741   \n",
       "...          ...          ...        ...          ...        ...       ...   \n",
       "1455    0.073375    -0.071836   0.918511    -0.238122   0.250402  0.789741   \n",
       "1456   -0.872563    -0.071836   0.222975     1.104925   1.061367  0.789741   \n",
       "1457    0.309859     0.651479  -1.002492     0.215641   1.569647  0.789741   \n",
       "1458   -0.872563    -0.795151  -0.704406     0.046905  -0.832788 -1.026041   \n",
       "1459   -0.872563    -0.795151  -0.207594     0.452784  -0.493934 -1.026041   \n",
       "\n",
       "      GarageYrBlt  GarageCars  \n",
       "0        1.017598    0.311725  \n",
       "1       -0.107927    0.311725  \n",
       "2        0.934226    0.311725  \n",
       "3        0.809167    1.650307  \n",
       "4        0.892540    1.650307  \n",
       "...           ...         ...  \n",
       "1455     0.850854    0.311725  \n",
       "1456    -0.024555    0.311725  \n",
       "1457    -1.566941   -1.026858  \n",
       "1458    -1.191766   -1.026858  \n",
       "1459    -0.566474   -1.026858  \n",
       "\n",
       "[1460 rows x 8 columns]"
      ]
     },
     "execution_count": 16,
     "metadata": {},
     "output_type": "execute_result"
    }
   ],
   "source": [
    "X_train_prepared = full_pipeline.fit_transform(X_train, y_train)\n",
    "X_train_prepared"
   ]
  },
  {
   "cell_type": "markdown",
   "id": "976d2a54",
   "metadata": {},
   "source": [
    "# Pipelines for Model Selection\n",
    "\n",
    "- In this section, I build a class *ModelSelector* to find the best combination of base models for the stacking model.\n",
    "\n",
    "- **During fit (only training dataset)**:\n",
    "    1. For models considered as base models, run cross-validation on the training set for each model using `cross_val_score` and evaluate performance based on mean squared error (`mean_score`).\n",
    "    2. Sort the models by mean squared error and remove the model with the worst performance.\n",
    "    3. Use the selected models as base models for the stacking model, set linear regression as the meta model, and train based on cross-validation (`StackingRegressor(estimators=estimators, final_estimator=level1, cv=5)`).\n",
    "    4. Fit the training data in the stacking model.\n",
    "\n",
    "- **During predict (only testing dataset)**:\n",
    "    - Return the predicted house prices based on the testing data."
   ]
  },
  {
   "cell_type": "code",
   "execution_count": 17,
   "id": "0519350b",
   "metadata": {},
   "outputs": [],
   "source": [
    "from sklearn.model_selection import cross_val_score, RepeatedKFold, GridSearchCV\n",
    "from sklearn.neighbors import KNeighborsRegressor\n",
    "from sklearn.tree import DecisionTreeRegressor\n",
    "from sklearn.ensemble import RandomForestRegressor, StackingRegressor\n",
    "from sklearn.svm import SVR\n",
    "from sklearn.linear_model import LinearRegression"
   ]
  },
  {
   "cell_type": "code",
   "execution_count": 18,
   "id": "59979ae8",
   "metadata": {},
   "outputs": [],
   "source": [
    "# Custom transformer to evaluate models and drop the worst performer\n",
    "class ModelSelector(BaseEstimator, TransformerMixin):\n",
    "    def __init__(self, models):\n",
    "        self.models = models\n",
    "        self.best_models = None\n",
    "\n",
    "    def fit(self, X, y=None):\n",
    "        model_scores = []\n",
    "        for name, model in self.models:\n",
    "            scores = cross_val_score(model, X, y, scoring='neg_mean_squared_error', cv=RepeatedKFold(n_splits=5, n_repeats=3, random_state=123), n_jobs=-1)\n",
    "            mean_score = np.sqrt(np.abs(scores)).mean()\n",
    "            model_scores.append((name, model, mean_score))\n",
    "\n",
    "        # Sort models by their mean score (ascending)\n",
    "        model_scores.sort(key=lambda x: x[2])\n",
    "        # Drop the worst performing model\n",
    "        self.best_models = model_scores[:-1]\n",
    "\n",
    "        # Create the stacking model\n",
    "        estimators = [(name, model) for name, model, score in self.best_models]\n",
    "        level1 = LinearRegression()\n",
    "        self.stacking_model = StackingRegressor(estimators=estimators, final_estimator=level1, cv=5)\n",
    "\n",
    "        # Fit the stacking model\n",
    "        self.stacking_model.fit(X, y)\n",
    "        return self\n",
    "\n",
    "    def predict(self, X):\n",
    "        # Use predict to get the predictions from the stacking model\n",
    "        return self.stacking_model.predict(X)\n",
    "\n",
    "    def get_stacking(self):\n",
    "        return self.stacking_model\n",
    "\n",
    "    def get_best_models(self):\n",
    "        return self.best_models"
   ]
  },
  {
   "cell_type": "code",
   "execution_count": 19,
   "id": "f6aa1a19",
   "metadata": {},
   "outputs": [],
   "source": [
    "# Define the models\n",
    "models = [\n",
    "    ('dt', DecisionTreeRegressor()),\n",
    "    ('rf', RandomForestRegressor()),\n",
    "    ('knn', KNeighborsRegressor()),\n",
    "    ('svr', SVR())\n",
    "]"
   ]
  },
  {
   "cell_type": "code",
   "execution_count": 21,
   "id": "ab149841",
   "metadata": {},
   "outputs": [
    {
     "data": {
      "text/html": [
       "<style>#sk-container-id-1 {color: black;background-color: white;}#sk-container-id-1 pre{padding: 0;}#sk-container-id-1 div.sk-toggleable {background-color: white;}#sk-container-id-1 label.sk-toggleable__label {cursor: pointer;display: block;width: 100%;margin-bottom: 0;padding: 0.3em;box-sizing: border-box;text-align: center;}#sk-container-id-1 label.sk-toggleable__label-arrow:before {content: \"▸\";float: left;margin-right: 0.25em;color: #696969;}#sk-container-id-1 label.sk-toggleable__label-arrow:hover:before {color: black;}#sk-container-id-1 div.sk-estimator:hover label.sk-toggleable__label-arrow:before {color: black;}#sk-container-id-1 div.sk-toggleable__content {max-height: 0;max-width: 0;overflow: hidden;text-align: left;background-color: #f0f8ff;}#sk-container-id-1 div.sk-toggleable__content pre {margin: 0.2em;color: black;border-radius: 0.25em;background-color: #f0f8ff;}#sk-container-id-1 input.sk-toggleable__control:checked~div.sk-toggleable__content {max-height: 200px;max-width: 100%;overflow: auto;}#sk-container-id-1 input.sk-toggleable__control:checked~label.sk-toggleable__label-arrow:before {content: \"▾\";}#sk-container-id-1 div.sk-estimator input.sk-toggleable__control:checked~label.sk-toggleable__label {background-color: #d4ebff;}#sk-container-id-1 div.sk-label input.sk-toggleable__control:checked~label.sk-toggleable__label {background-color: #d4ebff;}#sk-container-id-1 input.sk-hidden--visually {border: 0;clip: rect(1px 1px 1px 1px);clip: rect(1px, 1px, 1px, 1px);height: 1px;margin: -1px;overflow: hidden;padding: 0;position: absolute;width: 1px;}#sk-container-id-1 div.sk-estimator {font-family: monospace;background-color: #f0f8ff;border: 1px dotted black;border-radius: 0.25em;box-sizing: border-box;margin-bottom: 0.5em;}#sk-container-id-1 div.sk-estimator:hover {background-color: #d4ebff;}#sk-container-id-1 div.sk-parallel-item::after {content: \"\";width: 100%;border-bottom: 1px solid gray;flex-grow: 1;}#sk-container-id-1 div.sk-label:hover label.sk-toggleable__label {background-color: #d4ebff;}#sk-container-id-1 div.sk-serial::before {content: \"\";position: absolute;border-left: 1px solid gray;box-sizing: border-box;top: 0;bottom: 0;left: 50%;z-index: 0;}#sk-container-id-1 div.sk-serial {display: flex;flex-direction: column;align-items: center;background-color: white;padding-right: 0.2em;padding-left: 0.2em;position: relative;}#sk-container-id-1 div.sk-item {position: relative;z-index: 1;}#sk-container-id-1 div.sk-parallel {display: flex;align-items: stretch;justify-content: center;background-color: white;position: relative;}#sk-container-id-1 div.sk-item::before, #sk-container-id-1 div.sk-parallel-item::before {content: \"\";position: absolute;border-left: 1px solid gray;box-sizing: border-box;top: 0;bottom: 0;left: 50%;z-index: -1;}#sk-container-id-1 div.sk-parallel-item {display: flex;flex-direction: column;z-index: 1;position: relative;background-color: white;}#sk-container-id-1 div.sk-parallel-item:first-child::after {align-self: flex-end;width: 50%;}#sk-container-id-1 div.sk-parallel-item:last-child::after {align-self: flex-start;width: 50%;}#sk-container-id-1 div.sk-parallel-item:only-child::after {width: 0;}#sk-container-id-1 div.sk-dashed-wrapped {border: 1px dashed gray;margin: 0 0.4em 0.5em 0.4em;box-sizing: border-box;padding-bottom: 0.4em;background-color: white;}#sk-container-id-1 div.sk-label label {font-family: monospace;font-weight: bold;display: inline-block;line-height: 1.2em;}#sk-container-id-1 div.sk-label-container {text-align: center;}#sk-container-id-1 div.sk-container {/* jupyter's `normalize.less` sets `[hidden] { display: none; }` but bootstrap.min.css set `[hidden] { display: none !important; }` so we also need the `!important` here to be able to override the default hidden behavior on the sphinx rendered scikit-learn.org. See: https://github.com/scikit-learn/scikit-learn/issues/21755 */display: inline-block !important;position: relative;}#sk-container-id-1 div.sk-text-repr-fallback {display: none;}</style><div id=\"sk-container-id-1\" class=\"sk-top-container\"><div class=\"sk-text-repr-fallback\"><pre>ModelSelector(models=[(&#x27;dt&#x27;, DecisionTreeRegressor()),\n",
       "                      (&#x27;rf&#x27;, RandomForestRegressor()),\n",
       "                      (&#x27;knn&#x27;, KNeighborsRegressor()), (&#x27;svr&#x27;, SVR())])</pre><b>In a Jupyter environment, please rerun this cell to show the HTML representation or trust the notebook. <br />On GitHub, the HTML representation is unable to render, please try loading this page with nbviewer.org.</b></div><div class=\"sk-container\" hidden><div class=\"sk-item\"><div class=\"sk-estimator sk-toggleable\"><input class=\"sk-toggleable__control sk-hidden--visually\" id=\"sk-estimator-id-1\" type=\"checkbox\" checked><label for=\"sk-estimator-id-1\" class=\"sk-toggleable__label sk-toggleable__label-arrow\">ModelSelector</label><div class=\"sk-toggleable__content\"><pre>ModelSelector(models=[(&#x27;dt&#x27;, DecisionTreeRegressor()),\n",
       "                      (&#x27;rf&#x27;, RandomForestRegressor()),\n",
       "                      (&#x27;knn&#x27;, KNeighborsRegressor()), (&#x27;svr&#x27;, SVR())])</pre></div></div></div></div></div>"
      ],
      "text/plain": [
       "ModelSelector(models=[('dt', DecisionTreeRegressor()),\n",
       "                      ('rf', RandomForestRegressor()),\n",
       "                      ('knn', KNeighborsRegressor()), ('svr', SVR())])"
      ]
     },
     "execution_count": 21,
     "metadata": {},
     "output_type": "execute_result"
    }
   ],
   "source": [
    "# Initialize and fit the ModelSelector\n",
    "model_selector = ModelSelector(models)\n",
    "model_selector.fit(X_train_prepared, y_train)"
   ]
  },
  {
   "cell_type": "code",
   "execution_count": 22,
   "id": "2e835088",
   "metadata": {},
   "outputs": [
    {
     "data": {
      "text/plain": [
       "[('rf', RandomForestRegressor(), 31904.47616957313),\n",
       " ('knn', KNeighborsRegressor(), 34785.59352123518),\n",
       " ('dt', DecisionTreeRegressor(), 41167.24014524628)]"
      ]
     },
     "execution_count": 22,
     "metadata": {},
     "output_type": "execute_result"
    }
   ],
   "source": [
    "best_models = model_selector.get_best_models()\n",
    "best_models"
   ]
  },
  {
   "cell_type": "code",
   "execution_count": 23,
   "id": "0e2bc1c9",
   "metadata": {},
   "outputs": [
    {
     "data": {
      "text/html": [
       "<style>#sk-container-id-2 {color: black;background-color: white;}#sk-container-id-2 pre{padding: 0;}#sk-container-id-2 div.sk-toggleable {background-color: white;}#sk-container-id-2 label.sk-toggleable__label {cursor: pointer;display: block;width: 100%;margin-bottom: 0;padding: 0.3em;box-sizing: border-box;text-align: center;}#sk-container-id-2 label.sk-toggleable__label-arrow:before {content: \"▸\";float: left;margin-right: 0.25em;color: #696969;}#sk-container-id-2 label.sk-toggleable__label-arrow:hover:before {color: black;}#sk-container-id-2 div.sk-estimator:hover label.sk-toggleable__label-arrow:before {color: black;}#sk-container-id-2 div.sk-toggleable__content {max-height: 0;max-width: 0;overflow: hidden;text-align: left;background-color: #f0f8ff;}#sk-container-id-2 div.sk-toggleable__content pre {margin: 0.2em;color: black;border-radius: 0.25em;background-color: #f0f8ff;}#sk-container-id-2 input.sk-toggleable__control:checked~div.sk-toggleable__content {max-height: 200px;max-width: 100%;overflow: auto;}#sk-container-id-2 input.sk-toggleable__control:checked~label.sk-toggleable__label-arrow:before {content: \"▾\";}#sk-container-id-2 div.sk-estimator input.sk-toggleable__control:checked~label.sk-toggleable__label {background-color: #d4ebff;}#sk-container-id-2 div.sk-label input.sk-toggleable__control:checked~label.sk-toggleable__label {background-color: #d4ebff;}#sk-container-id-2 input.sk-hidden--visually {border: 0;clip: rect(1px 1px 1px 1px);clip: rect(1px, 1px, 1px, 1px);height: 1px;margin: -1px;overflow: hidden;padding: 0;position: absolute;width: 1px;}#sk-container-id-2 div.sk-estimator {font-family: monospace;background-color: #f0f8ff;border: 1px dotted black;border-radius: 0.25em;box-sizing: border-box;margin-bottom: 0.5em;}#sk-container-id-2 div.sk-estimator:hover {background-color: #d4ebff;}#sk-container-id-2 div.sk-parallel-item::after {content: \"\";width: 100%;border-bottom: 1px solid gray;flex-grow: 1;}#sk-container-id-2 div.sk-label:hover label.sk-toggleable__label {background-color: #d4ebff;}#sk-container-id-2 div.sk-serial::before {content: \"\";position: absolute;border-left: 1px solid gray;box-sizing: border-box;top: 0;bottom: 0;left: 50%;z-index: 0;}#sk-container-id-2 div.sk-serial {display: flex;flex-direction: column;align-items: center;background-color: white;padding-right: 0.2em;padding-left: 0.2em;position: relative;}#sk-container-id-2 div.sk-item {position: relative;z-index: 1;}#sk-container-id-2 div.sk-parallel {display: flex;align-items: stretch;justify-content: center;background-color: white;position: relative;}#sk-container-id-2 div.sk-item::before, #sk-container-id-2 div.sk-parallel-item::before {content: \"\";position: absolute;border-left: 1px solid gray;box-sizing: border-box;top: 0;bottom: 0;left: 50%;z-index: -1;}#sk-container-id-2 div.sk-parallel-item {display: flex;flex-direction: column;z-index: 1;position: relative;background-color: white;}#sk-container-id-2 div.sk-parallel-item:first-child::after {align-self: flex-end;width: 50%;}#sk-container-id-2 div.sk-parallel-item:last-child::after {align-self: flex-start;width: 50%;}#sk-container-id-2 div.sk-parallel-item:only-child::after {width: 0;}#sk-container-id-2 div.sk-dashed-wrapped {border: 1px dashed gray;margin: 0 0.4em 0.5em 0.4em;box-sizing: border-box;padding-bottom: 0.4em;background-color: white;}#sk-container-id-2 div.sk-label label {font-family: monospace;font-weight: bold;display: inline-block;line-height: 1.2em;}#sk-container-id-2 div.sk-label-container {text-align: center;}#sk-container-id-2 div.sk-container {/* jupyter's `normalize.less` sets `[hidden] { display: none; }` but bootstrap.min.css set `[hidden] { display: none !important; }` so we also need the `!important` here to be able to override the default hidden behavior on the sphinx rendered scikit-learn.org. See: https://github.com/scikit-learn/scikit-learn/issues/21755 */display: inline-block !important;position: relative;}#sk-container-id-2 div.sk-text-repr-fallback {display: none;}</style><div id=\"sk-container-id-2\" class=\"sk-top-container\"><div class=\"sk-text-repr-fallback\"><pre>StackingRegressor(cv=5,\n",
       "                  estimators=[(&#x27;rf&#x27;, RandomForestRegressor()),\n",
       "                              (&#x27;knn&#x27;, KNeighborsRegressor()),\n",
       "                              (&#x27;dt&#x27;, DecisionTreeRegressor())],\n",
       "                  final_estimator=LinearRegression())</pre><b>In a Jupyter environment, please rerun this cell to show the HTML representation or trust the notebook. <br />On GitHub, the HTML representation is unable to render, please try loading this page with nbviewer.org.</b></div><div class=\"sk-container\" hidden><div class=\"sk-item sk-dashed-wrapped\"><div class=\"sk-label-container\"><div class=\"sk-label sk-toggleable\"><input class=\"sk-toggleable__control sk-hidden--visually\" id=\"sk-estimator-id-2\" type=\"checkbox\" ><label for=\"sk-estimator-id-2\" class=\"sk-toggleable__label sk-toggleable__label-arrow\">StackingRegressor</label><div class=\"sk-toggleable__content\"><pre>StackingRegressor(cv=5,\n",
       "                  estimators=[(&#x27;rf&#x27;, RandomForestRegressor()),\n",
       "                              (&#x27;knn&#x27;, KNeighborsRegressor()),\n",
       "                              (&#x27;dt&#x27;, DecisionTreeRegressor())],\n",
       "                  final_estimator=LinearRegression())</pre></div></div></div><div class=\"sk-serial\"><div class=\"sk-item\"><div class=\"sk-parallel\"><div class=\"sk-parallel-item\"><div class=\"sk-item\"><div class=\"sk-label-container\"><div class=\"sk-label sk-toggleable\"><label>rf</label></div></div><div class=\"sk-serial\"><div class=\"sk-item\"><div class=\"sk-estimator sk-toggleable\"><input class=\"sk-toggleable__control sk-hidden--visually\" id=\"sk-estimator-id-3\" type=\"checkbox\" ><label for=\"sk-estimator-id-3\" class=\"sk-toggleable__label sk-toggleable__label-arrow\">RandomForestRegressor</label><div class=\"sk-toggleable__content\"><pre>RandomForestRegressor()</pre></div></div></div></div></div></div><div class=\"sk-parallel-item\"><div class=\"sk-item\"><div class=\"sk-label-container\"><div class=\"sk-label sk-toggleable\"><label>knn</label></div></div><div class=\"sk-serial\"><div class=\"sk-item\"><div class=\"sk-estimator sk-toggleable\"><input class=\"sk-toggleable__control sk-hidden--visually\" id=\"sk-estimator-id-4\" type=\"checkbox\" ><label for=\"sk-estimator-id-4\" class=\"sk-toggleable__label sk-toggleable__label-arrow\">KNeighborsRegressor</label><div class=\"sk-toggleable__content\"><pre>KNeighborsRegressor()</pre></div></div></div></div></div></div><div class=\"sk-parallel-item\"><div class=\"sk-item\"><div class=\"sk-label-container\"><div class=\"sk-label sk-toggleable\"><label>dt</label></div></div><div class=\"sk-serial\"><div class=\"sk-item\"><div class=\"sk-estimator sk-toggleable\"><input class=\"sk-toggleable__control sk-hidden--visually\" id=\"sk-estimator-id-5\" type=\"checkbox\" ><label for=\"sk-estimator-id-5\" class=\"sk-toggleable__label sk-toggleable__label-arrow\">DecisionTreeRegressor</label><div class=\"sk-toggleable__content\"><pre>DecisionTreeRegressor()</pre></div></div></div></div></div></div></div></div><div class=\"sk-item\"><div class=\"sk-parallel\"><div class=\"sk-parallel-item\"><div class=\"sk-item\"><div class=\"sk-label-container\"><div class=\"sk-label sk-toggleable\"><label>final_estimator</label></div></div><div class=\"sk-serial\"><div class=\"sk-item\"><div class=\"sk-estimator sk-toggleable\"><input class=\"sk-toggleable__control sk-hidden--visually\" id=\"sk-estimator-id-6\" type=\"checkbox\" ><label for=\"sk-estimator-id-6\" class=\"sk-toggleable__label sk-toggleable__label-arrow\">LinearRegression</label><div class=\"sk-toggleable__content\"><pre>LinearRegression()</pre></div></div></div></div></div></div></div></div></div></div></div></div>"
      ],
      "text/plain": [
       "StackingRegressor(cv=5,\n",
       "                  estimators=[('rf', RandomForestRegressor()),\n",
       "                              ('knn', KNeighborsRegressor()),\n",
       "                              ('dt', DecisionTreeRegressor())],\n",
       "                  final_estimator=LinearRegression())"
      ]
     },
     "execution_count": 23,
     "metadata": {},
     "output_type": "execute_result"
    }
   ],
   "source": [
    "model_selector.get_stacking()"
   ]
  },
  {
   "cell_type": "markdown",
   "id": "76dedf78",
   "metadata": {},
   "source": [
    "# Make Prediction"
   ]
  },
  {
   "cell_type": "code",
   "execution_count": 24,
   "id": "f7b76e75",
   "metadata": {},
   "outputs": [],
   "source": [
    "X_test_prepared = full_pipeline.transform(test)"
   ]
  },
  {
   "cell_type": "code",
   "execution_count": 25,
   "id": "5b700f94",
   "metadata": {},
   "outputs": [
    {
     "data": {
      "text/html": [
       "<div>\n",
       "<style scoped>\n",
       "    .dataframe tbody tr th:only-of-type {\n",
       "        vertical-align: middle;\n",
       "    }\n",
       "\n",
       "    .dataframe tbody tr th {\n",
       "        vertical-align: top;\n",
       "    }\n",
       "\n",
       "    .dataframe thead th {\n",
       "        text-align: right;\n",
       "    }\n",
       "</style>\n",
       "<table border=\"1\" class=\"dataframe\">\n",
       "  <thead>\n",
       "    <tr style=\"text-align: right;\">\n",
       "      <th></th>\n",
       "      <th>MSSubClass</th>\n",
       "      <th>OverallQual</th>\n",
       "      <th>YearBuilt</th>\n",
       "      <th>TotalBsmtSF</th>\n",
       "      <th>GrLivArea</th>\n",
       "      <th>FullBath</th>\n",
       "      <th>GarageYrBlt</th>\n",
       "      <th>GarageCars</th>\n",
       "    </tr>\n",
       "  </thead>\n",
       "  <tbody>\n",
       "    <tr>\n",
       "      <th>0</th>\n",
       "      <td>-0.872563</td>\n",
       "      <td>-0.795151</td>\n",
       "      <td>-0.340077</td>\n",
       "      <td>-0.400017</td>\n",
       "      <td>-1.179256</td>\n",
       "      <td>-1.026041</td>\n",
       "      <td>-0.733219</td>\n",
       "      <td>-1.026858</td>\n",
       "    </tr>\n",
       "    <tr>\n",
       "      <th>1</th>\n",
       "      <td>-0.872563</td>\n",
       "      <td>-0.071836</td>\n",
       "      <td>-0.439440</td>\n",
       "      <td>0.619239</td>\n",
       "      <td>-0.354966</td>\n",
       "      <td>-1.026041</td>\n",
       "      <td>-0.858277</td>\n",
       "      <td>-1.026858</td>\n",
       "    </tr>\n",
       "    <tr>\n",
       "      <th>2</th>\n",
       "      <td>0.073375</td>\n",
       "      <td>-0.795151</td>\n",
       "      <td>0.852269</td>\n",
       "      <td>-0.295127</td>\n",
       "      <td>0.216136</td>\n",
       "      <td>0.789741</td>\n",
       "      <td>0.767481</td>\n",
       "      <td>0.311725</td>\n",
       "    </tr>\n",
       "    <tr>\n",
       "      <th>3</th>\n",
       "      <td>0.073375</td>\n",
       "      <td>-0.071836</td>\n",
       "      <td>0.885390</td>\n",
       "      <td>-0.299687</td>\n",
       "      <td>0.168544</td>\n",
       "      <td>0.789741</td>\n",
       "      <td>0.809167</td>\n",
       "      <td>0.311725</td>\n",
       "    </tr>\n",
       "    <tr>\n",
       "      <th>4</th>\n",
       "      <td>1.492282</td>\n",
       "      <td>1.374795</td>\n",
       "      <td>0.686666</td>\n",
       "      <td>0.507509</td>\n",
       "      <td>-0.448246</td>\n",
       "      <td>0.789741</td>\n",
       "      <td>0.559051</td>\n",
       "      <td>0.311725</td>\n",
       "    </tr>\n",
       "    <tr>\n",
       "      <th>...</th>\n",
       "      <td>...</td>\n",
       "      <td>...</td>\n",
       "      <td>...</td>\n",
       "      <td>...</td>\n",
       "      <td>...</td>\n",
       "      <td>...</td>\n",
       "      <td>...</td>\n",
       "      <td>...</td>\n",
       "    </tr>\n",
       "    <tr>\n",
       "      <th>1454</th>\n",
       "      <td>2.438219</td>\n",
       "      <td>-1.518467</td>\n",
       "      <td>-0.041991</td>\n",
       "      <td>-1.166169</td>\n",
       "      <td>-0.806136</td>\n",
       "      <td>-1.026041</td>\n",
       "      <td>0.058817</td>\n",
       "      <td>-2.365440</td>\n",
       "    </tr>\n",
       "    <tr>\n",
       "      <th>1455</th>\n",
       "      <td>2.438219</td>\n",
       "      <td>-1.518467</td>\n",
       "      <td>-0.041991</td>\n",
       "      <td>-1.166169</td>\n",
       "      <td>-0.806136</td>\n",
       "      <td>-1.026041</td>\n",
       "      <td>-0.358044</td>\n",
       "      <td>-1.026858</td>\n",
       "    </tr>\n",
       "    <tr>\n",
       "      <th>1456</th>\n",
       "      <td>-0.872563</td>\n",
       "      <td>-0.795151</td>\n",
       "      <td>-0.373198</td>\n",
       "      <td>0.379817</td>\n",
       "      <td>-0.554851</td>\n",
       "      <td>-1.026041</td>\n",
       "      <td>-0.774905</td>\n",
       "      <td>0.311725</td>\n",
       "    </tr>\n",
       "    <tr>\n",
       "      <th>1457</th>\n",
       "      <td>0.664586</td>\n",
       "      <td>-0.795151</td>\n",
       "      <td>0.686666</td>\n",
       "      <td>-0.331610</td>\n",
       "      <td>-1.038384</td>\n",
       "      <td>-1.026041</td>\n",
       "      <td>0.058817</td>\n",
       "      <td>-2.365440</td>\n",
       "    </tr>\n",
       "    <tr>\n",
       "      <th>1458</th>\n",
       "      <td>0.073375</td>\n",
       "      <td>0.651479</td>\n",
       "      <td>0.719786</td>\n",
       "      <td>-0.140072</td>\n",
       "      <td>0.922399</td>\n",
       "      <td>0.789741</td>\n",
       "      <td>0.600737</td>\n",
       "      <td>1.650307</td>\n",
       "    </tr>\n",
       "  </tbody>\n",
       "</table>\n",
       "<p>1459 rows × 8 columns</p>\n",
       "</div>"
      ],
      "text/plain": [
       "      MSSubClass  OverallQual  YearBuilt  TotalBsmtSF  GrLivArea  FullBath  \\\n",
       "0      -0.872563    -0.795151  -0.340077    -0.400017  -1.179256 -1.026041   \n",
       "1      -0.872563    -0.071836  -0.439440     0.619239  -0.354966 -1.026041   \n",
       "2       0.073375    -0.795151   0.852269    -0.295127   0.216136  0.789741   \n",
       "3       0.073375    -0.071836   0.885390    -0.299687   0.168544  0.789741   \n",
       "4       1.492282     1.374795   0.686666     0.507509  -0.448246  0.789741   \n",
       "...          ...          ...        ...          ...        ...       ...   \n",
       "1454    2.438219    -1.518467  -0.041991    -1.166169  -0.806136 -1.026041   \n",
       "1455    2.438219    -1.518467  -0.041991    -1.166169  -0.806136 -1.026041   \n",
       "1456   -0.872563    -0.795151  -0.373198     0.379817  -0.554851 -1.026041   \n",
       "1457    0.664586    -0.795151   0.686666    -0.331610  -1.038384 -1.026041   \n",
       "1458    0.073375     0.651479   0.719786    -0.140072   0.922399  0.789741   \n",
       "\n",
       "      GarageYrBlt  GarageCars  \n",
       "0       -0.733219   -1.026858  \n",
       "1       -0.858277   -1.026858  \n",
       "2        0.767481    0.311725  \n",
       "3        0.809167    0.311725  \n",
       "4        0.559051    0.311725  \n",
       "...           ...         ...  \n",
       "1454     0.058817   -2.365440  \n",
       "1455    -0.358044   -1.026858  \n",
       "1456    -0.774905    0.311725  \n",
       "1457     0.058817   -2.365440  \n",
       "1458     0.600737    1.650307  \n",
       "\n",
       "[1459 rows x 8 columns]"
      ]
     },
     "execution_count": 25,
     "metadata": {},
     "output_type": "execute_result"
    }
   ],
   "source": [
    "X_test_prepared"
   ]
  },
  {
   "cell_type": "code",
   "execution_count": 26,
   "id": "1046b416",
   "metadata": {},
   "outputs": [
    {
     "data": {
      "text/plain": [
       "array([120636.69157402, 150500.27667547, 171225.36889781, ...,\n",
       "       134143.38938942, 114609.15947291, 235894.99537106])"
      ]
     },
     "execution_count": 26,
     "metadata": {},
     "output_type": "execute_result"
    }
   ],
   "source": [
    "preds = model_selector.predict(X_test_prepared)\n",
    "preds"
   ]
  },
  {
   "cell_type": "code",
   "execution_count": 27,
   "id": "09e7b237",
   "metadata": {},
   "outputs": [
    {
     "data": {
      "text/html": [
       "<div>\n",
       "<style scoped>\n",
       "    .dataframe tbody tr th:only-of-type {\n",
       "        vertical-align: middle;\n",
       "    }\n",
       "\n",
       "    .dataframe tbody tr th {\n",
       "        vertical-align: top;\n",
       "    }\n",
       "\n",
       "    .dataframe thead th {\n",
       "        text-align: right;\n",
       "    }\n",
       "</style>\n",
       "<table border=\"1\" class=\"dataframe\">\n",
       "  <thead>\n",
       "    <tr style=\"text-align: right;\">\n",
       "      <th></th>\n",
       "      <th>Id</th>\n",
       "      <th>SalePrice</th>\n",
       "    </tr>\n",
       "  </thead>\n",
       "  <tbody>\n",
       "    <tr>\n",
       "      <th>0</th>\n",
       "      <td>1461</td>\n",
       "      <td>120636.691574</td>\n",
       "    </tr>\n",
       "    <tr>\n",
       "      <th>1</th>\n",
       "      <td>1462</td>\n",
       "      <td>150500.276675</td>\n",
       "    </tr>\n",
       "    <tr>\n",
       "      <th>2</th>\n",
       "      <td>1463</td>\n",
       "      <td>171225.368898</td>\n",
       "    </tr>\n",
       "    <tr>\n",
       "      <th>3</th>\n",
       "      <td>1464</td>\n",
       "      <td>180802.840228</td>\n",
       "    </tr>\n",
       "    <tr>\n",
       "      <th>4</th>\n",
       "      <td>1465</td>\n",
       "      <td>205052.413381</td>\n",
       "    </tr>\n",
       "  </tbody>\n",
       "</table>\n",
       "</div>"
      ],
      "text/plain": [
       "     Id      SalePrice\n",
       "0  1461  120636.691574\n",
       "1  1462  150500.276675\n",
       "2  1463  171225.368898\n",
       "3  1464  180802.840228\n",
       "4  1465  205052.413381"
      ]
     },
     "execution_count": 27,
     "metadata": {},
     "output_type": "execute_result"
    }
   ],
   "source": [
    "preds_series = pd.Series(preds, name='SalePrice')\n",
    "output =  pd.concat([test['Id'], preds_series], axis=1)\n",
    "output.head()"
   ]
  },
  {
   "cell_type": "code",
   "execution_count": 28,
   "id": "c169cd99",
   "metadata": {},
   "outputs": [],
   "source": [
    "output.to_csv('housing_submission_pipeline.csv', index=False)"
   ]
  },
  {
   "cell_type": "code",
   "execution_count": 29,
   "id": "0f582ea6",
   "metadata": {},
   "outputs": [
    {
     "data": {
      "text/plain": [
       "-0.15308761720012928"
      ]
     },
     "execution_count": 29,
     "metadata": {},
     "output_type": "execute_result"
    }
   ],
   "source": [
    "(0.15717-0.18558)/0.18558"
   ]
  },
  {
   "cell_type": "markdown",
   "id": "55c426bc",
   "metadata": {},
   "source": [
    "Kaggle provided the score as 0.15717. Note that the previous model in my previous [Kaggle](https://www.kaggle.com/code/somebodynamedalexis/introduction-to-ml-prediction)/[Github](https://nbviewer.org/github/Zihac/Introduction-to-ML-Models/blob/main/ML_Prediction/house-price-prediction-begining.ipynb) code yielded a performance around 0.18558. This suggests that dropping the worst-performing base model increased the performance by approximately 15%."
   ]
  },
  {
   "cell_type": "markdown",
   "id": "5211aafe",
   "metadata": {},
   "source": [
    "# Grid Search\n",
    "\n",
    "- In this section, I aim to improve the performance of the model by fine-tuning the parameters of the base models through grid search."
   ]
  },
  {
   "cell_type": "code",
   "execution_count": 30,
   "id": "e879dbce",
   "metadata": {},
   "outputs": [
    {
     "data": {
      "text/plain": [
       "array([2, 4, 6])"
      ]
     },
     "execution_count": 30,
     "metadata": {},
     "output_type": "execute_result"
    }
   ],
   "source": [
    "np.arange(2, 8, 2)"
   ]
  },
  {
   "cell_type": "code",
   "execution_count": 31,
   "id": "285fcfe6",
   "metadata": {},
   "outputs": [],
   "source": [
    "param_grid = [\n",
    "    {'rf__n_estimators': [3,10,30], 'rf__max_features':[2,4,6,8],'dt__max_depth':[6,8,10],'knn__n_neighbors': np.arange(2, 8, 1) }\n",
    "]"
   ]
  },
  {
   "cell_type": "code",
   "execution_count": 32,
   "id": "805e4945",
   "metadata": {},
   "outputs": [],
   "source": [
    "grid_search = GridSearchCV(model_selector.get_stacking(), param_grid, cv=3, scoring='neg_mean_squared_error', n_jobs=-1)"
   ]
  },
  {
   "cell_type": "code",
   "execution_count": 34,
   "id": "1598d897",
   "metadata": {},
   "outputs": [
    {
     "data": {
      "text/html": [
       "<style>#sk-container-id-3 {color: black;background-color: white;}#sk-container-id-3 pre{padding: 0;}#sk-container-id-3 div.sk-toggleable {background-color: white;}#sk-container-id-3 label.sk-toggleable__label {cursor: pointer;display: block;width: 100%;margin-bottom: 0;padding: 0.3em;box-sizing: border-box;text-align: center;}#sk-container-id-3 label.sk-toggleable__label-arrow:before {content: \"▸\";float: left;margin-right: 0.25em;color: #696969;}#sk-container-id-3 label.sk-toggleable__label-arrow:hover:before {color: black;}#sk-container-id-3 div.sk-estimator:hover label.sk-toggleable__label-arrow:before {color: black;}#sk-container-id-3 div.sk-toggleable__content {max-height: 0;max-width: 0;overflow: hidden;text-align: left;background-color: #f0f8ff;}#sk-container-id-3 div.sk-toggleable__content pre {margin: 0.2em;color: black;border-radius: 0.25em;background-color: #f0f8ff;}#sk-container-id-3 input.sk-toggleable__control:checked~div.sk-toggleable__content {max-height: 200px;max-width: 100%;overflow: auto;}#sk-container-id-3 input.sk-toggleable__control:checked~label.sk-toggleable__label-arrow:before {content: \"▾\";}#sk-container-id-3 div.sk-estimator input.sk-toggleable__control:checked~label.sk-toggleable__label {background-color: #d4ebff;}#sk-container-id-3 div.sk-label input.sk-toggleable__control:checked~label.sk-toggleable__label {background-color: #d4ebff;}#sk-container-id-3 input.sk-hidden--visually {border: 0;clip: rect(1px 1px 1px 1px);clip: rect(1px, 1px, 1px, 1px);height: 1px;margin: -1px;overflow: hidden;padding: 0;position: absolute;width: 1px;}#sk-container-id-3 div.sk-estimator {font-family: monospace;background-color: #f0f8ff;border: 1px dotted black;border-radius: 0.25em;box-sizing: border-box;margin-bottom: 0.5em;}#sk-container-id-3 div.sk-estimator:hover {background-color: #d4ebff;}#sk-container-id-3 div.sk-parallel-item::after {content: \"\";width: 100%;border-bottom: 1px solid gray;flex-grow: 1;}#sk-container-id-3 div.sk-label:hover label.sk-toggleable__label {background-color: #d4ebff;}#sk-container-id-3 div.sk-serial::before {content: \"\";position: absolute;border-left: 1px solid gray;box-sizing: border-box;top: 0;bottom: 0;left: 50%;z-index: 0;}#sk-container-id-3 div.sk-serial {display: flex;flex-direction: column;align-items: center;background-color: white;padding-right: 0.2em;padding-left: 0.2em;position: relative;}#sk-container-id-3 div.sk-item {position: relative;z-index: 1;}#sk-container-id-3 div.sk-parallel {display: flex;align-items: stretch;justify-content: center;background-color: white;position: relative;}#sk-container-id-3 div.sk-item::before, #sk-container-id-3 div.sk-parallel-item::before {content: \"\";position: absolute;border-left: 1px solid gray;box-sizing: border-box;top: 0;bottom: 0;left: 50%;z-index: -1;}#sk-container-id-3 div.sk-parallel-item {display: flex;flex-direction: column;z-index: 1;position: relative;background-color: white;}#sk-container-id-3 div.sk-parallel-item:first-child::after {align-self: flex-end;width: 50%;}#sk-container-id-3 div.sk-parallel-item:last-child::after {align-self: flex-start;width: 50%;}#sk-container-id-3 div.sk-parallel-item:only-child::after {width: 0;}#sk-container-id-3 div.sk-dashed-wrapped {border: 1px dashed gray;margin: 0 0.4em 0.5em 0.4em;box-sizing: border-box;padding-bottom: 0.4em;background-color: white;}#sk-container-id-3 div.sk-label label {font-family: monospace;font-weight: bold;display: inline-block;line-height: 1.2em;}#sk-container-id-3 div.sk-label-container {text-align: center;}#sk-container-id-3 div.sk-container {/* jupyter's `normalize.less` sets `[hidden] { display: none; }` but bootstrap.min.css set `[hidden] { display: none !important; }` so we also need the `!important` here to be able to override the default hidden behavior on the sphinx rendered scikit-learn.org. See: https://github.com/scikit-learn/scikit-learn/issues/21755 */display: inline-block !important;position: relative;}#sk-container-id-3 div.sk-text-repr-fallback {display: none;}</style><div id=\"sk-container-id-3\" class=\"sk-top-container\"><div class=\"sk-text-repr-fallback\"><pre>GridSearchCV(cv=3,\n",
       "             estimator=StackingRegressor(cv=5,\n",
       "                                         estimators=[(&#x27;rf&#x27;,\n",
       "                                                      RandomForestRegressor()),\n",
       "                                                     (&#x27;knn&#x27;,\n",
       "                                                      KNeighborsRegressor()),\n",
       "                                                     (&#x27;dt&#x27;,\n",
       "                                                      DecisionTreeRegressor())],\n",
       "                                         final_estimator=LinearRegression()),\n",
       "             n_jobs=-1,\n",
       "             param_grid=[{&#x27;dt__max_depth&#x27;: [6, 8, 10],\n",
       "                          &#x27;knn__n_neighbors&#x27;: array([2, 3, 4, 5, 6, 7]),\n",
       "                          &#x27;rf__max_features&#x27;: [2, 4, 6, 8],\n",
       "                          &#x27;rf__n_estimators&#x27;: [3, 10, 30]}],\n",
       "             scoring=&#x27;neg_mean_squared_error&#x27;)</pre><b>In a Jupyter environment, please rerun this cell to show the HTML representation or trust the notebook. <br />On GitHub, the HTML representation is unable to render, please try loading this page with nbviewer.org.</b></div><div class=\"sk-container\" hidden><div class=\"sk-item sk-dashed-wrapped\"><div class=\"sk-label-container\"><div class=\"sk-label sk-toggleable\"><input class=\"sk-toggleable__control sk-hidden--visually\" id=\"sk-estimator-id-7\" type=\"checkbox\" ><label for=\"sk-estimator-id-7\" class=\"sk-toggleable__label sk-toggleable__label-arrow\">GridSearchCV</label><div class=\"sk-toggleable__content\"><pre>GridSearchCV(cv=3,\n",
       "             estimator=StackingRegressor(cv=5,\n",
       "                                         estimators=[(&#x27;rf&#x27;,\n",
       "                                                      RandomForestRegressor()),\n",
       "                                                     (&#x27;knn&#x27;,\n",
       "                                                      KNeighborsRegressor()),\n",
       "                                                     (&#x27;dt&#x27;,\n",
       "                                                      DecisionTreeRegressor())],\n",
       "                                         final_estimator=LinearRegression()),\n",
       "             n_jobs=-1,\n",
       "             param_grid=[{&#x27;dt__max_depth&#x27;: [6, 8, 10],\n",
       "                          &#x27;knn__n_neighbors&#x27;: array([2, 3, 4, 5, 6, 7]),\n",
       "                          &#x27;rf__max_features&#x27;: [2, 4, 6, 8],\n",
       "                          &#x27;rf__n_estimators&#x27;: [3, 10, 30]}],\n",
       "             scoring=&#x27;neg_mean_squared_error&#x27;)</pre></div></div></div><div class=\"sk-parallel\"><div class=\"sk-parallel-item\"><div class=\"sk-item\"><div class=\"sk-label-container\"><div class=\"sk-label sk-toggleable\"><input class=\"sk-toggleable__control sk-hidden--visually\" id=\"sk-estimator-id-8\" type=\"checkbox\" ><label for=\"sk-estimator-id-8\" class=\"sk-toggleable__label sk-toggleable__label-arrow\">estimator: StackingRegressor</label><div class=\"sk-toggleable__content\"><pre>StackingRegressor(cv=5,\n",
       "                  estimators=[(&#x27;rf&#x27;, RandomForestRegressor()),\n",
       "                              (&#x27;knn&#x27;, KNeighborsRegressor()),\n",
       "                              (&#x27;dt&#x27;, DecisionTreeRegressor())],\n",
       "                  final_estimator=LinearRegression())</pre></div></div></div><div class=\"sk-serial\"><div class=\"sk-item\"><div class=\"sk-serial\"><div class=\"sk-item\"><div class=\"sk-parallel\"><div class=\"sk-parallel-item\"><div class=\"sk-item\"><div class=\"sk-label-container\"><div class=\"sk-label sk-toggleable\"><label>rf</label></div></div><div class=\"sk-serial\"><div class=\"sk-item\"><div class=\"sk-estimator sk-toggleable\"><input class=\"sk-toggleable__control sk-hidden--visually\" id=\"sk-estimator-id-9\" type=\"checkbox\" ><label for=\"sk-estimator-id-9\" class=\"sk-toggleable__label sk-toggleable__label-arrow\">RandomForestRegressor</label><div class=\"sk-toggleable__content\"><pre>RandomForestRegressor()</pre></div></div></div></div></div></div><div class=\"sk-parallel-item\"><div class=\"sk-item\"><div class=\"sk-label-container\"><div class=\"sk-label sk-toggleable\"><label>knn</label></div></div><div class=\"sk-serial\"><div class=\"sk-item\"><div class=\"sk-estimator sk-toggleable\"><input class=\"sk-toggleable__control sk-hidden--visually\" id=\"sk-estimator-id-10\" type=\"checkbox\" ><label for=\"sk-estimator-id-10\" class=\"sk-toggleable__label sk-toggleable__label-arrow\">KNeighborsRegressor</label><div class=\"sk-toggleable__content\"><pre>KNeighborsRegressor()</pre></div></div></div></div></div></div><div class=\"sk-parallel-item\"><div class=\"sk-item\"><div class=\"sk-label-container\"><div class=\"sk-label sk-toggleable\"><label>dt</label></div></div><div class=\"sk-serial\"><div class=\"sk-item\"><div class=\"sk-estimator sk-toggleable\"><input class=\"sk-toggleable__control sk-hidden--visually\" id=\"sk-estimator-id-11\" type=\"checkbox\" ><label for=\"sk-estimator-id-11\" class=\"sk-toggleable__label sk-toggleable__label-arrow\">DecisionTreeRegressor</label><div class=\"sk-toggleable__content\"><pre>DecisionTreeRegressor()</pre></div></div></div></div></div></div></div></div><div class=\"sk-item\"><div class=\"sk-parallel\"><div class=\"sk-parallel-item\"><div class=\"sk-item\"><div class=\"sk-label-container\"><div class=\"sk-label sk-toggleable\"><label>final_estimator</label></div></div><div class=\"sk-serial\"><div class=\"sk-item\"><div class=\"sk-estimator sk-toggleable\"><input class=\"sk-toggleable__control sk-hidden--visually\" id=\"sk-estimator-id-12\" type=\"checkbox\" ><label for=\"sk-estimator-id-12\" class=\"sk-toggleable__label sk-toggleable__label-arrow\">LinearRegression</label><div class=\"sk-toggleable__content\"><pre>LinearRegression()</pre></div></div></div></div></div></div></div></div></div></div></div></div></div></div></div></div></div>"
      ],
      "text/plain": [
       "GridSearchCV(cv=3,\n",
       "             estimator=StackingRegressor(cv=5,\n",
       "                                         estimators=[('rf',\n",
       "                                                      RandomForestRegressor()),\n",
       "                                                     ('knn',\n",
       "                                                      KNeighborsRegressor()),\n",
       "                                                     ('dt',\n",
       "                                                      DecisionTreeRegressor())],\n",
       "                                         final_estimator=LinearRegression()),\n",
       "             n_jobs=-1,\n",
       "             param_grid=[{'dt__max_depth': [6, 8, 10],\n",
       "                          'knn__n_neighbors': array([2, 3, 4, 5, 6, 7]),\n",
       "                          'rf__max_features': [2, 4, 6, 8],\n",
       "                          'rf__n_estimators': [3, 10, 30]}],\n",
       "             scoring='neg_mean_squared_error')"
      ]
     },
     "execution_count": 34,
     "metadata": {},
     "output_type": "execute_result"
    }
   ],
   "source": [
    "# Fit the GridSearchCV\n",
    "grid_search.fit(X_train_prepared, y_train)"
   ]
  },
  {
   "cell_type": "code",
   "execution_count": 35,
   "id": "c60a1aeb",
   "metadata": {},
   "outputs": [
    {
     "data": {
      "text/plain": [
       "{'dt__max_depth': 6,\n",
       " 'knn__n_neighbors': 3,\n",
       " 'rf__max_features': 2,\n",
       " 'rf__n_estimators': 10}"
      ]
     },
     "execution_count": 35,
     "metadata": {},
     "output_type": "execute_result"
    }
   ],
   "source": [
    "# Best parameters and model\n",
    "best_params = grid_search.best_params_\n",
    "best_params"
   ]
  },
  {
   "cell_type": "code",
   "execution_count": 36,
   "id": "728ae760",
   "metadata": {},
   "outputs": [
    {
     "data": {
      "text/html": [
       "<style>#sk-container-id-4 {color: black;background-color: white;}#sk-container-id-4 pre{padding: 0;}#sk-container-id-4 div.sk-toggleable {background-color: white;}#sk-container-id-4 label.sk-toggleable__label {cursor: pointer;display: block;width: 100%;margin-bottom: 0;padding: 0.3em;box-sizing: border-box;text-align: center;}#sk-container-id-4 label.sk-toggleable__label-arrow:before {content: \"▸\";float: left;margin-right: 0.25em;color: #696969;}#sk-container-id-4 label.sk-toggleable__label-arrow:hover:before {color: black;}#sk-container-id-4 div.sk-estimator:hover label.sk-toggleable__label-arrow:before {color: black;}#sk-container-id-4 div.sk-toggleable__content {max-height: 0;max-width: 0;overflow: hidden;text-align: left;background-color: #f0f8ff;}#sk-container-id-4 div.sk-toggleable__content pre {margin: 0.2em;color: black;border-radius: 0.25em;background-color: #f0f8ff;}#sk-container-id-4 input.sk-toggleable__control:checked~div.sk-toggleable__content {max-height: 200px;max-width: 100%;overflow: auto;}#sk-container-id-4 input.sk-toggleable__control:checked~label.sk-toggleable__label-arrow:before {content: \"▾\";}#sk-container-id-4 div.sk-estimator input.sk-toggleable__control:checked~label.sk-toggleable__label {background-color: #d4ebff;}#sk-container-id-4 div.sk-label input.sk-toggleable__control:checked~label.sk-toggleable__label {background-color: #d4ebff;}#sk-container-id-4 input.sk-hidden--visually {border: 0;clip: rect(1px 1px 1px 1px);clip: rect(1px, 1px, 1px, 1px);height: 1px;margin: -1px;overflow: hidden;padding: 0;position: absolute;width: 1px;}#sk-container-id-4 div.sk-estimator {font-family: monospace;background-color: #f0f8ff;border: 1px dotted black;border-radius: 0.25em;box-sizing: border-box;margin-bottom: 0.5em;}#sk-container-id-4 div.sk-estimator:hover {background-color: #d4ebff;}#sk-container-id-4 div.sk-parallel-item::after {content: \"\";width: 100%;border-bottom: 1px solid gray;flex-grow: 1;}#sk-container-id-4 div.sk-label:hover label.sk-toggleable__label {background-color: #d4ebff;}#sk-container-id-4 div.sk-serial::before {content: \"\";position: absolute;border-left: 1px solid gray;box-sizing: border-box;top: 0;bottom: 0;left: 50%;z-index: 0;}#sk-container-id-4 div.sk-serial {display: flex;flex-direction: column;align-items: center;background-color: white;padding-right: 0.2em;padding-left: 0.2em;position: relative;}#sk-container-id-4 div.sk-item {position: relative;z-index: 1;}#sk-container-id-4 div.sk-parallel {display: flex;align-items: stretch;justify-content: center;background-color: white;position: relative;}#sk-container-id-4 div.sk-item::before, #sk-container-id-4 div.sk-parallel-item::before {content: \"\";position: absolute;border-left: 1px solid gray;box-sizing: border-box;top: 0;bottom: 0;left: 50%;z-index: -1;}#sk-container-id-4 div.sk-parallel-item {display: flex;flex-direction: column;z-index: 1;position: relative;background-color: white;}#sk-container-id-4 div.sk-parallel-item:first-child::after {align-self: flex-end;width: 50%;}#sk-container-id-4 div.sk-parallel-item:last-child::after {align-self: flex-start;width: 50%;}#sk-container-id-4 div.sk-parallel-item:only-child::after {width: 0;}#sk-container-id-4 div.sk-dashed-wrapped {border: 1px dashed gray;margin: 0 0.4em 0.5em 0.4em;box-sizing: border-box;padding-bottom: 0.4em;background-color: white;}#sk-container-id-4 div.sk-label label {font-family: monospace;font-weight: bold;display: inline-block;line-height: 1.2em;}#sk-container-id-4 div.sk-label-container {text-align: center;}#sk-container-id-4 div.sk-container {/* jupyter's `normalize.less` sets `[hidden] { display: none; }` but bootstrap.min.css set `[hidden] { display: none !important; }` so we also need the `!important` here to be able to override the default hidden behavior on the sphinx rendered scikit-learn.org. See: https://github.com/scikit-learn/scikit-learn/issues/21755 */display: inline-block !important;position: relative;}#sk-container-id-4 div.sk-text-repr-fallback {display: none;}</style><div id=\"sk-container-id-4\" class=\"sk-top-container\"><div class=\"sk-text-repr-fallback\"><pre>StackingRegressor(cv=5,\n",
       "                  estimators=[(&#x27;rf&#x27;,\n",
       "                               RandomForestRegressor(max_features=2,\n",
       "                                                     n_estimators=10)),\n",
       "                              (&#x27;knn&#x27;, KNeighborsRegressor(n_neighbors=3)),\n",
       "                              (&#x27;dt&#x27;, DecisionTreeRegressor(max_depth=6))],\n",
       "                  final_estimator=LinearRegression())</pre><b>In a Jupyter environment, please rerun this cell to show the HTML representation or trust the notebook. <br />On GitHub, the HTML representation is unable to render, please try loading this page with nbviewer.org.</b></div><div class=\"sk-container\" hidden><div class=\"sk-item sk-dashed-wrapped\"><div class=\"sk-label-container\"><div class=\"sk-label sk-toggleable\"><input class=\"sk-toggleable__control sk-hidden--visually\" id=\"sk-estimator-id-13\" type=\"checkbox\" ><label for=\"sk-estimator-id-13\" class=\"sk-toggleable__label sk-toggleable__label-arrow\">StackingRegressor</label><div class=\"sk-toggleable__content\"><pre>StackingRegressor(cv=5,\n",
       "                  estimators=[(&#x27;rf&#x27;,\n",
       "                               RandomForestRegressor(max_features=2,\n",
       "                                                     n_estimators=10)),\n",
       "                              (&#x27;knn&#x27;, KNeighborsRegressor(n_neighbors=3)),\n",
       "                              (&#x27;dt&#x27;, DecisionTreeRegressor(max_depth=6))],\n",
       "                  final_estimator=LinearRegression())</pre></div></div></div><div class=\"sk-serial\"><div class=\"sk-item\"><div class=\"sk-parallel\"><div class=\"sk-parallel-item\"><div class=\"sk-item\"><div class=\"sk-label-container\"><div class=\"sk-label sk-toggleable\"><label>rf</label></div></div><div class=\"sk-serial\"><div class=\"sk-item\"><div class=\"sk-estimator sk-toggleable\"><input class=\"sk-toggleable__control sk-hidden--visually\" id=\"sk-estimator-id-14\" type=\"checkbox\" ><label for=\"sk-estimator-id-14\" class=\"sk-toggleable__label sk-toggleable__label-arrow\">RandomForestRegressor</label><div class=\"sk-toggleable__content\"><pre>RandomForestRegressor(max_features=2, n_estimators=10)</pre></div></div></div></div></div></div><div class=\"sk-parallel-item\"><div class=\"sk-item\"><div class=\"sk-label-container\"><div class=\"sk-label sk-toggleable\"><label>knn</label></div></div><div class=\"sk-serial\"><div class=\"sk-item\"><div class=\"sk-estimator sk-toggleable\"><input class=\"sk-toggleable__control sk-hidden--visually\" id=\"sk-estimator-id-15\" type=\"checkbox\" ><label for=\"sk-estimator-id-15\" class=\"sk-toggleable__label sk-toggleable__label-arrow\">KNeighborsRegressor</label><div class=\"sk-toggleable__content\"><pre>KNeighborsRegressor(n_neighbors=3)</pre></div></div></div></div></div></div><div class=\"sk-parallel-item\"><div class=\"sk-item\"><div class=\"sk-label-container\"><div class=\"sk-label sk-toggleable\"><label>dt</label></div></div><div class=\"sk-serial\"><div class=\"sk-item\"><div class=\"sk-estimator sk-toggleable\"><input class=\"sk-toggleable__control sk-hidden--visually\" id=\"sk-estimator-id-16\" type=\"checkbox\" ><label for=\"sk-estimator-id-16\" class=\"sk-toggleable__label sk-toggleable__label-arrow\">DecisionTreeRegressor</label><div class=\"sk-toggleable__content\"><pre>DecisionTreeRegressor(max_depth=6)</pre></div></div></div></div></div></div></div></div><div class=\"sk-item\"><div class=\"sk-parallel\"><div class=\"sk-parallel-item\"><div class=\"sk-item\"><div class=\"sk-label-container\"><div class=\"sk-label sk-toggleable\"><label>final_estimator</label></div></div><div class=\"sk-serial\"><div class=\"sk-item\"><div class=\"sk-estimator sk-toggleable\"><input class=\"sk-toggleable__control sk-hidden--visually\" id=\"sk-estimator-id-17\" type=\"checkbox\" ><label for=\"sk-estimator-id-17\" class=\"sk-toggleable__label sk-toggleable__label-arrow\">LinearRegression</label><div class=\"sk-toggleable__content\"><pre>LinearRegression()</pre></div></div></div></div></div></div></div></div></div></div></div></div>"
      ],
      "text/plain": [
       "StackingRegressor(cv=5,\n",
       "                  estimators=[('rf',\n",
       "                               RandomForestRegressor(max_features=2,\n",
       "                                                     n_estimators=10)),\n",
       "                              ('knn', KNeighborsRegressor(n_neighbors=3)),\n",
       "                              ('dt', DecisionTreeRegressor(max_depth=6))],\n",
       "                  final_estimator=LinearRegression())"
      ]
     },
     "execution_count": 36,
     "metadata": {},
     "output_type": "execute_result"
    }
   ],
   "source": [
    "best_model = grid_search.best_estimator_\n",
    "best_model"
   ]
  },
  {
   "cell_type": "code",
   "execution_count": 37,
   "id": "14ba481d",
   "metadata": {},
   "outputs": [
    {
     "data": {
      "text/plain": [
       "array([119738.57949424, 149909.36818133, 172734.23308477, ...,\n",
       "       140934.62830762, 115149.11718153, 231725.313826  ])"
      ]
     },
     "execution_count": 37,
     "metadata": {},
     "output_type": "execute_result"
    }
   ],
   "source": [
    "preds = best_model.predict(X_test_prepared)\n",
    "preds"
   ]
  },
  {
   "cell_type": "code",
   "execution_count": 38,
   "id": "a249f796",
   "metadata": {},
   "outputs": [
    {
     "data": {
      "text/html": [
       "<div>\n",
       "<style scoped>\n",
       "    .dataframe tbody tr th:only-of-type {\n",
       "        vertical-align: middle;\n",
       "    }\n",
       "\n",
       "    .dataframe tbody tr th {\n",
       "        vertical-align: top;\n",
       "    }\n",
       "\n",
       "    .dataframe thead th {\n",
       "        text-align: right;\n",
       "    }\n",
       "</style>\n",
       "<table border=\"1\" class=\"dataframe\">\n",
       "  <thead>\n",
       "    <tr style=\"text-align: right;\">\n",
       "      <th></th>\n",
       "      <th>Id</th>\n",
       "      <th>SalePrice</th>\n",
       "    </tr>\n",
       "  </thead>\n",
       "  <tbody>\n",
       "    <tr>\n",
       "      <th>0</th>\n",
       "      <td>1461</td>\n",
       "      <td>119738.579494</td>\n",
       "    </tr>\n",
       "    <tr>\n",
       "      <th>1</th>\n",
       "      <td>1462</td>\n",
       "      <td>149909.368181</td>\n",
       "    </tr>\n",
       "    <tr>\n",
       "      <th>2</th>\n",
       "      <td>1463</td>\n",
       "      <td>172734.233085</td>\n",
       "    </tr>\n",
       "    <tr>\n",
       "      <th>3</th>\n",
       "      <td>1464</td>\n",
       "      <td>180051.374860</td>\n",
       "    </tr>\n",
       "    <tr>\n",
       "      <th>4</th>\n",
       "      <td>1465</td>\n",
       "      <td>195898.501199</td>\n",
       "    </tr>\n",
       "  </tbody>\n",
       "</table>\n",
       "</div>"
      ],
      "text/plain": [
       "     Id      SalePrice\n",
       "0  1461  119738.579494\n",
       "1  1462  149909.368181\n",
       "2  1463  172734.233085\n",
       "3  1464  180051.374860\n",
       "4  1465  195898.501199"
      ]
     },
     "execution_count": 38,
     "metadata": {},
     "output_type": "execute_result"
    }
   ],
   "source": [
    "preds_series = pd.Series(preds, name='SalePrice')\n",
    "output =  pd.concat([test['Id'], preds_series], axis=1)\n",
    "output.head()"
   ]
  },
  {
   "cell_type": "code",
   "execution_count": 39,
   "id": "d1c2c27a",
   "metadata": {},
   "outputs": [],
   "source": [
    "output.to_csv('housing_submission_pipeline_Gridsearch.csv', index=False)"
   ]
  },
  {
   "cell_type": "code",
   "execution_count": 40,
   "id": "29365d66",
   "metadata": {},
   "outputs": [
    {
     "data": {
      "text/plain": [
       "['stacking_model_GridSearch.pkl']"
      ]
     },
     "execution_count": 40,
     "metadata": {},
     "output_type": "execute_result"
    }
   ],
   "source": [
    "import joblib\n",
    "\n",
    "# Save the stacking model\n",
    "joblib.dump(best_model, 'stacking_model_GridSearch.pkl')"
   ]
  },
  {
   "cell_type": "code",
   "execution_count": 41,
   "id": "0ecfc942",
   "metadata": {},
   "outputs": [
    {
     "data": {
      "text/plain": [
       "-0.0016542597187759129"
      ]
     },
     "execution_count": 41,
     "metadata": {},
     "output_type": "execute_result"
    }
   ],
   "source": [
    "(0.15691-0.15717)/0.15717"
   ]
  },
  {
   "cell_type": "markdown",
   "id": "83dc9bd2",
   "metadata": {},
   "source": [
    "The new score is 0.15691, representing a 0.1% improvement from the stacking model without grid search for the best parameters."
   ]
  },
  {
   "cell_type": "markdown",
   "id": "fee74b0d",
   "metadata": {},
   "source": [
    "# Reference\n",
    "- If you have any questions about the reasons behind the steps, please check out my previous notebook on [Kaggle](https://www.kaggle.com/code/somebodynamedalexis/introduction-to-ml-prediction)/[Github](https://nbviewer.org/github/Zihac/Introduction-to-ML-Models/blob/main/ML_Prediction/house-price-prediction-begining.ipynb) as well as the reference\n",
    "- For more information on model pipelines, you can also refer to the book Hands-On Machine Learning with Scikit-Learn, Keras, and TensorFlow by Aurélien Géron (2022), published by O'Reilly Media, Inc."
   ]
  }
 ],
 "metadata": {
  "kernelspec": {
   "display_name": "Python 3 (ipykernel)",
   "language": "python",
   "name": "python3"
  },
  "language_info": {
   "codemirror_mode": {
    "name": "ipython",
    "version": 3
   },
   "file_extension": ".py",
   "mimetype": "text/x-python",
   "name": "python",
   "nbconvert_exporter": "python",
   "pygments_lexer": "ipython3",
   "version": "3.11.4"
  }
 },
 "nbformat": 4,
 "nbformat_minor": 5
}
